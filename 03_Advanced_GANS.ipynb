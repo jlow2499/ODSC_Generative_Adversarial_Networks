{
  "nbformat": 4,
  "nbformat_minor": 0,
  "metadata": {
    "colab": {
      "name": "03_Advanced_GANS.ipynb",
      "version": "0.3.2",
      "provenance": [],
      "collapsed_sections": []
    },
    "language_info": {
      "codemirror_mode": {
        "name": "ipython",
        "version": 3
      },
      "file_extension": ".py",
      "mimetype": "text/x-python",
      "name": "python",
      "nbconvert_exporter": "python",
      "pygments_lexer": "ipython3",
      "version": "3.6.5"
    },
    "kernelspec": {
      "display_name": "Python 3",
      "language": "python",
      "name": "python3"
    }
  },
  "cells": [
    {
      "metadata": {
        "id": "gtV4bHqMCS22",
        "colab_type": "text"
      },
      "cell_type": "markdown",
      "source": [
        "TOC\n",
        "\n",
        "\n",
        "0. [Slides](https://soph.info/slides/odsc2019.pdf)\n",
        "1.   [Neural Net Theory](https://colab.research.google.com/gist/artificialsoph/1032e89227b1fe7707d6ea5e533e0b9c/01_nn_theory.ipynb)\n",
        "2.   [Deep Convolutional GANs](https://colab.research.google.com/gist/artificialsoph/ade40c6da14505a8b56a5b4904d5d061/0-dc-gan.ipynb)\n",
        "3.   [Advanced GANs](https://colab.research.google.com/gist/artificialsoph/968b60b40108f8516c3cc57e291ff9cb/1-advanced-gans.ipynb)\n",
        "3.   [Multilable Conditional GANs](https://colab.research.google.com/gist/artificialsoph/14b5acca09b486fb693f83b5c09e916a/2-multilabel-conditional-gans.ipynb)\n",
        "\n"
      ]
    },
    {
      "metadata": {
        "ExecuteTime": {
          "end_time": "2019-05-01T05:33:37.345871Z",
          "start_time": "2019-05-01T05:33:35.911247Z"
        },
        "id": "ipSpFLaCBtAj",
        "colab_type": "code",
        "outputId": "badf92b0-e995-4b6b-baa6-a4900b2b05b2",
        "colab": {}
      },
      "cell_type": "code",
      "source": [
        "#######################\n",
        "# standard code block #\n",
        "#######################\n",
        "\n",
        "# see https://ipython.readthedocs.io/en/stable/interactive/magics.html\n",
        "%pylab inline\n",
        "\n",
        "# sets backend to render higher res images\n",
        "%config InlineBackend.figure_formats = ['retina']\n",
        "\n",
        "#######################\n",
        "#       imports       #\n",
        "#######################\n",
        "import pandas as pd\n",
        "import seaborn as sns\n",
        "import sklearn\n",
        "\n",
        "!wget http://soph.info/metis/soph.py\n",
        "from soph import plot_decision_boundary\n",
        "\n",
        "sns.set_style(\"whitegrid\")"
      ],
      "execution_count": 0,
      "outputs": [
        {
          "output_type": "stream",
          "text": [
            "Populating the interactive namespace from numpy and matplotlib\n"
          ],
          "name": "stdout"
        }
      ]
    },
    {
      "metadata": {
        "id": "-0NaCfsztpC5",
        "colab_type": "code",
        "colab": {}
      },
      "cell_type": "code",
      "source": [
        "%pylab inline\n",
        "\n",
        "import keras\n",
        "import keras.backend as K\n",
        "import numpy as np\n",
        "import functools\n",
        "from tqdm import tqdm, tqdm_notebook\n",
        "import soph"
      ],
      "execution_count": 0,
      "outputs": []
    },
    {
      "metadata": {
        "id": "T0cXtFnKtpC-",
        "colab_type": "code",
        "colab": {}
      },
      "cell_type": "code",
      "source": [
        "(x_train, y_train), (x_test, y_test) = keras.datasets.cifar10.load_data()"
      ],
      "execution_count": 0,
      "outputs": []
    },
    {
      "metadata": {
        "id": "v0Iiaf36tpDN",
        "colab_type": "code",
        "colab": {}
      },
      "cell_type": "code",
      "source": [
        "# we can see that the range of pixels is 0-255. \n",
        "# We'll go ahead and scale it from -1 to 1\n",
        "# This will be important later\n",
        "print(\"original range of pixels\", x_train.min(), x_train.max())\n",
        "\n",
        "x_train = (2/255)*x_train - 1\n",
        "x_test = (2/255)*x_test - 1\n",
        "\n",
        "print(\"new range of pixels\", x_train.min(), x_train.max())"
      ],
      "execution_count": 0,
      "outputs": []
    },
    {
      "metadata": {
        "id": "rNob9h3mtpDR",
        "colab_type": "code",
        "colab": {}
      },
      "cell_type": "code",
      "source": [
        ""
      ],
      "execution_count": 0,
      "outputs": []
    },
    {
      "metadata": {
        "id": "vwDXq5HQtpDW",
        "colab_type": "code",
        "colab": {}
      },
      "cell_type": "code",
      "source": [
        "lrelu = functools.partial(K.relu, alpha=.1)\n",
        "z_len = 100\n",
        "im_size = 32"
      ],
      "execution_count": 0,
      "outputs": []
    },
    {
      "metadata": {
        "id": "EhGLKDm_tpDf",
        "colab_type": "code",
        "colab": {}
      },
      "cell_type": "code",
      "source": [
        "conv = functools.partial(\n",
        "    soph.Conv2D,\n",
        "    filters=50,\n",
        "    kernel_size=3,\n",
        "    padding=\"same\",\n",
        "    activation=lrelu,\n",
        "    strides=2,\n",
        "    spectral_normalization=True,\n",
        ")\n",
        "bnorm = functools.partial(keras.layers.BatchNormalization, momentum=0.8)\n",
        "\n",
        "disc = keras.Sequential([\n",
        "    keras.layers.InputLayer(input_shape=(im_size, im_size, 3)),\n",
        "    conv(),\n",
        "    bnorm(),\n",
        "    conv(),\n",
        "    bnorm(),\n",
        "    conv(),\n",
        "    bnorm(),\n",
        "    keras.layers.Flatten(),\n",
        "    keras.layers.Dense(1)\n",
        "])\n",
        "\n",
        "gen = keras.Sequential([\n",
        "    keras.layers.InputLayer(input_shape=(z_len, )),\n",
        "    keras.layers.Dense(50 * 4 * 4, activation=lrelu),\n",
        "    keras.layers.Reshape((4, 4, 50)),\n",
        "    bnorm(),\n",
        "    keras.layers.UpSampling2D(),\n",
        "    \n",
        "\n",
        "    conv(strides=1),\n",
        "    bnorm(),\n",
        "    keras.layers.UpSampling2D(),\n",
        "    conv(strides=1),\n",
        "    bnorm(),\n",
        "    keras.layers.UpSampling2D(),\n",
        "\n",
        "    \n",
        "    conv(filters=3, strides=1, activation='tanh')\n",
        "])\n",
        "\n",
        "disc.summary()\n",
        "gen.summary()"
      ],
      "execution_count": 0,
      "outputs": []
    },
    {
      "metadata": {
        "id": "cOsqRQM_tpDk",
        "colab_type": "code",
        "colab": {}
      },
      "cell_type": "code",
      "source": [
        "img_real = keras.Input(shape=(im_size, im_size, 3 ))\n",
        "z_gen = keras.Input(shape=(z_len, ))\n",
        "img_fake = gen(z_gen)\n",
        "\n",
        "logits_real = disc(img_real)\n",
        "logits_fake = disc(img_fake)\n",
        "\n",
        "def disc_loss(yt, yp):\n",
        "    \n",
        "    loss_real = K.mean(K.relu(1-logits_real))\n",
        "    loss_fake = K.mean(K.relu(1+logits_fake))\n",
        "    \n",
        "    return (loss_real + loss_fake)/2\n",
        "\n",
        "def gen_loss(yt, yp):\n",
        "        return -K.mean(logits_fake)"
      ],
      "execution_count": 0,
      "outputs": []
    },
    {
      "metadata": {
        "id": "MQ8Vasg2tpDp",
        "colab_type": "code",
        "colab": {}
      },
      "cell_type": "code",
      "source": [
        "gen.trainable = False\n",
        "disc.trainable = True\n",
        "\n",
        "disc_train = keras.Model([img_real, z_gen], [logits_real, logits_fake])\n",
        "disc_train.compile(loss = [disc_loss, None], optimizer=keras.optimizers.Adam(lr=0.0002, beta_1=0))"
      ],
      "execution_count": 0,
      "outputs": []
    },
    {
      "metadata": {
        "id": "nTg1pm5DtpDs",
        "colab_type": "code",
        "colab": {}
      },
      "cell_type": "code",
      "source": [
        "gen.trainable = True\n",
        "disc.trainable = False\n",
        "\n",
        "gen_train = keras.Model(z_gen, logits_fake)\n",
        "gen_train.compile(loss = gen_loss, optimizer=keras.optimizers.Adam(lr=0.00005, beta_1=0))"
      ],
      "execution_count": 0,
      "outputs": []
    },
    {
      "metadata": {
        "scrolled": false,
        "id": "dQtSSSygtpDy",
        "colab_type": "code",
        "colab": {}
      },
      "cell_type": "code",
      "source": [
        "figsize(10,10)\n",
        "\n",
        "n_disc =2\n",
        "sample_side = 10\n",
        "batch_size = 64\n",
        "\n",
        "num_steps = x_train.shape[0]//batch_size\n",
        "\n",
        "num_epochs = 10\n",
        "\n",
        "d_loss_list = []\n",
        "g_loss_list = []\n",
        "\n",
        "dumb = np.ones((batch_size, 1))\n",
        "\n",
        "# this will be used for sampling after each epoch. \n",
        "# if we stick with the same set of noise, we can see how the generated images changes\n",
        "\n",
        "noise_sample = np.random.normal(size=(sample_side**2, z_len))\n",
        "\n",
        "for epoch_i in range(num_epochs):\n",
        "    print(f\"starting epoch {epoch_i}\")\n",
        "    \n",
        "    for step_i in tqdm_notebook(range(num_steps)):\n",
        "        \n",
        "        \n",
        "        for _ in range(n_disc):\n",
        "            idx = np.random.randint(0,x_train.shape[0], batch_size)\n",
        "\n",
        "            x_batch = x_train[idx,...]\n",
        "\n",
        "            noise_batch = np.random.normal(size=(batch_size, z_len))\n",
        "                        \n",
        "            # Train the critic\n",
        "            d_loss = disc_train.train_on_batch([x_batch, noise_batch], dumb)\n",
        "            d_loss_list.append(d_loss[0])\n",
        "\n",
        "        noise_batch = np.random.normal(size=(batch_size, z_len))\n",
        "        g_loss = gen_train.train_on_batch(noise_batch, dumb)\n",
        "        g_loss_list.append(g_loss)\n",
        "        \n",
        "    \n",
        "    \n",
        "    gen_sample = gen.predict(noise_sample)\n",
        "    \n",
        "    gen_sample = (gen_sample+1)/2\n",
        "    \n",
        "    gen_sample = gen_sample.reshape(sample_side,sample_side*im_size,im_size,3)\n",
        "    gen_sample = gen_sample.transpose((0,2,1,3))\n",
        "    gen_sample = gen_sample.reshape(sample_side*im_size,sample_side*im_size,3)\n",
        "    gen_sample = gen_sample.transpose((1,0,2))\n",
        "    \n",
        "    \n",
        "    plt.clf();\n",
        "    plt.figure();\n",
        "    plt.imshow(gen_sample)\n",
        "    plt.show();\n",
        "    \n",
        "    \n",
        "    print(f\" disc loss: {np.mean(d_loss_list[-n_disc*num_steps:])} gen loss: {np.mean(g_loss_list[-num_steps:])}\")\n",
        "    "
      ],
      "execution_count": 0,
      "outputs": []
    },
    {
      "metadata": {
        "id": "4yJN4Bq_tpD3",
        "colab_type": "code",
        "colab": {}
      },
      "cell_type": "code",
      "source": [
        ""
      ],
      "execution_count": 0,
      "outputs": []
    }
  ]
}